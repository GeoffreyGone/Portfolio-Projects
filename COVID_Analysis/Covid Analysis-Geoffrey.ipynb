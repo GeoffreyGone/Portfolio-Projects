{
 "cells": [
  {
   "cell_type": "markdown",
   "metadata": {},
   "source": [
    "**IN-CLASS SESSION WORK**\n",
    "\n",
    "**COVID-19 Analysis With Python**\n",
    "\n",
    "Python is a highly powerful general-purpose programming language that can be easily learned and provides data scientists a wide variety of tools and packages. Amid this pandemic period, you are to analyze this novel coronavirus.\n",
    "You are to do the following:\n",
    "\n",
    "1.\tGathering Data  \n",
    "2.\tTransforming Data to our needs (Data Wrangling)\n",
    "3.\tExploratory Data Analysis (EDA) and Visualization\n",
    "\n",
    "You can find the data on the website here: https://coronavirus-disasterresponse.hub.arcgis.com/datasets/bbb2e4f589ba40d692fab712ae37b9ac_1/geoservice?geometry=169.709%2C-38.069%2C-152.322%2C63.033 or \n",
    "\n",
    "use this: https://raw.githubusercontent.com/owid/covid-19-data/master/public/data/owid-covid-data.csv\n",
    "\n",
    "As part of the EDA, you are to do the following: \n",
    "\n",
    "**Part 1 — Ranking Most affected countries**\n",
    "\n",
    "i) Top 10 Confirmed Cases Countries:\n",
    "\n",
    "ii) Top 10 Death Cases Countries:\n",
    "\n",
    "iii) Top 10 Recovered Cases Countries:\n",
    "\n",
    "iv) Top 10 Active Cases Countries:\n",
    "\n",
    "**Part 2 — Ranking most affected States is largely affected Countries:**\n",
    "\n",
    "EDA for ranking states in largely affected Countries:\n",
    "\n",
    "i) Most affected States in the USA:\n",
    "\n",
    "ii) Most affected States in Brazil:\n",
    "\n",
    "iii) Most affected States in India:\n",
    "\n",
    "iv) Most affected States in Russia:"
   ]
  },
  {
   "cell_type": "code",
   "execution_count": 1,
   "metadata": {},
   "outputs": [],
   "source": [
    "#Importing libraries\n",
    "import pandas as pd\n",
    "import numpy as np\n",
    "import matplotlib.pyplot as plt"
   ]
  },
  {
   "cell_type": "code",
   "execution_count": 2,
   "metadata": {},
   "outputs": [
    {
     "data": {
      "text/html": [
       "<div>\n",
       "<style scoped>\n",
       "    .dataframe tbody tr th:only-of-type {\n",
       "        vertical-align: middle;\n",
       "    }\n",
       "\n",
       "    .dataframe tbody tr th {\n",
       "        vertical-align: top;\n",
       "    }\n",
       "\n",
       "    .dataframe thead th {\n",
       "        text-align: right;\n",
       "    }\n",
       "</style>\n",
       "<table border=\"1\" class=\"dataframe\">\n",
       "  <thead>\n",
       "    <tr style=\"text-align: right;\">\n",
       "      <th></th>\n",
       "      <th>X</th>\n",
       "      <th>Y</th>\n",
       "      <th>OBJECTID</th>\n",
       "      <th>Province_State</th>\n",
       "      <th>Country_Region</th>\n",
       "      <th>Last_Update</th>\n",
       "      <th>Lat</th>\n",
       "      <th>Long_</th>\n",
       "      <th>Confirmed</th>\n",
       "      <th>Recovered</th>\n",
       "      <th>Deaths</th>\n",
       "      <th>Active</th>\n",
       "      <th>Admin2</th>\n",
       "      <th>FIPS</th>\n",
       "      <th>Combined_Key</th>\n",
       "    </tr>\n",
       "  </thead>\n",
       "  <tbody>\n",
       "    <tr>\n",
       "      <th>0</th>\n",
       "      <td>67.709953</td>\n",
       "      <td>33.93911</td>\n",
       "      <td>1</td>\n",
       "      <td>NaN</td>\n",
       "      <td>Afghanistan</td>\n",
       "      <td>2020/09/05 09:28:32+00</td>\n",
       "      <td>33.93911</td>\n",
       "      <td>67.709953</td>\n",
       "      <td>38324</td>\n",
       "      <td>30082</td>\n",
       "      <td>1409</td>\n",
       "      <td>6833</td>\n",
       "      <td>NaN</td>\n",
       "      <td>NaN</td>\n",
       "      <td>Afghanistan</td>\n",
       "    </tr>\n",
       "    <tr>\n",
       "      <th>1</th>\n",
       "      <td>20.168300</td>\n",
       "      <td>41.15330</td>\n",
       "      <td>2</td>\n",
       "      <td>NaN</td>\n",
       "      <td>Albania</td>\n",
       "      <td>2020/09/05 09:28:32+00</td>\n",
       "      <td>41.15330</td>\n",
       "      <td>20.168300</td>\n",
       "      <td>9967</td>\n",
       "      <td>5882</td>\n",
       "      <td>306</td>\n",
       "      <td>3779</td>\n",
       "      <td>NaN</td>\n",
       "      <td>NaN</td>\n",
       "      <td>Albania</td>\n",
       "    </tr>\n",
       "    <tr>\n",
       "      <th>2</th>\n",
       "      <td>1.659600</td>\n",
       "      <td>28.03390</td>\n",
       "      <td>3</td>\n",
       "      <td>NaN</td>\n",
       "      <td>Algeria</td>\n",
       "      <td>2020/09/05 09:28:32+00</td>\n",
       "      <td>28.03390</td>\n",
       "      <td>1.659600</td>\n",
       "      <td>45773</td>\n",
       "      <td>32259</td>\n",
       "      <td>1539</td>\n",
       "      <td>11975</td>\n",
       "      <td>NaN</td>\n",
       "      <td>NaN</td>\n",
       "      <td>Algeria</td>\n",
       "    </tr>\n",
       "    <tr>\n",
       "      <th>3</th>\n",
       "      <td>1.521800</td>\n",
       "      <td>42.50630</td>\n",
       "      <td>4</td>\n",
       "      <td>NaN</td>\n",
       "      <td>Andorra</td>\n",
       "      <td>2020/09/05 09:28:32+00</td>\n",
       "      <td>42.50630</td>\n",
       "      <td>1.521800</td>\n",
       "      <td>1215</td>\n",
       "      <td>928</td>\n",
       "      <td>53</td>\n",
       "      <td>234</td>\n",
       "      <td>NaN</td>\n",
       "      <td>NaN</td>\n",
       "      <td>Andorra</td>\n",
       "    </tr>\n",
       "    <tr>\n",
       "      <th>4</th>\n",
       "      <td>17.873900</td>\n",
       "      <td>-11.20270</td>\n",
       "      <td>5</td>\n",
       "      <td>NaN</td>\n",
       "      <td>Angola</td>\n",
       "      <td>2020/09/05 09:28:32+00</td>\n",
       "      <td>-11.20270</td>\n",
       "      <td>17.873900</td>\n",
       "      <td>2876</td>\n",
       "      <td>1167</td>\n",
       "      <td>115</td>\n",
       "      <td>1594</td>\n",
       "      <td>NaN</td>\n",
       "      <td>NaN</td>\n",
       "      <td>Angola</td>\n",
       "    </tr>\n",
       "  </tbody>\n",
       "</table>\n",
       "</div>"
      ],
      "text/plain": [
       "           X         Y  OBJECTID Province_State Country_Region  \\\n",
       "0  67.709953  33.93911         1            NaN    Afghanistan   \n",
       "1  20.168300  41.15330         2            NaN        Albania   \n",
       "2   1.659600  28.03390         3            NaN        Algeria   \n",
       "3   1.521800  42.50630         4            NaN        Andorra   \n",
       "4  17.873900 -11.20270         5            NaN         Angola   \n",
       "\n",
       "              Last_Update       Lat      Long_  Confirmed  Recovered  Deaths  \\\n",
       "0  2020/09/05 09:28:32+00  33.93911  67.709953      38324      30082    1409   \n",
       "1  2020/09/05 09:28:32+00  41.15330  20.168300       9967       5882     306   \n",
       "2  2020/09/05 09:28:32+00  28.03390   1.659600      45773      32259    1539   \n",
       "3  2020/09/05 09:28:32+00  42.50630   1.521800       1215        928      53   \n",
       "4  2020/09/05 09:28:32+00 -11.20270  17.873900       2876       1167     115   \n",
       "\n",
       "   Active  Admin2  FIPS Combined_Key  \n",
       "0    6833     NaN   NaN  Afghanistan  \n",
       "1    3779     NaN   NaN      Albania  \n",
       "2   11975     NaN   NaN      Algeria  \n",
       "3     234     NaN   NaN      Andorra  \n",
       "4    1594     NaN   NaN       Angola  "
      ]
     },
     "execution_count": 2,
     "metadata": {},
     "output_type": "execute_result"
    }
   ],
   "source": [
    "#loading the data\n",
    "data = pd.read_csv(\"Coronavirus_COVID-19_Cases.csv\")\n",
    "data.head()"
   ]
  },
  {
   "cell_type": "code",
   "execution_count": 3,
   "metadata": {},
   "outputs": [
    {
     "name": "stdout",
     "output_type": "stream",
     "text": [
      "<class 'pandas.core.frame.DataFrame'>\n",
      "RangeIndex: 744 entries, 0 to 743\n",
      "Data columns (total 15 columns):\n",
      "X                 731 non-null float64\n",
      "Y                 731 non-null float64\n",
      "OBJECTID          744 non-null int64\n",
      "Province_State    576 non-null object\n",
      "Country_Region    744 non-null object\n",
      "Last_Update       744 non-null object\n",
      "Lat               731 non-null float64\n",
      "Long_             731 non-null float64\n",
      "Confirmed         744 non-null int64\n",
      "Recovered         744 non-null int64\n",
      "Deaths            744 non-null int64\n",
      "Active            744 non-null int64\n",
      "Admin2            0 non-null float64\n",
      "FIPS              52 non-null float64\n",
      "Combined_Key      744 non-null object\n",
      "dtypes: float64(6), int64(5), object(4)\n",
      "memory usage: 87.3+ KB\n"
     ]
    }
   ],
   "source": [
    "data.info()"
   ]
  },
  {
   "cell_type": "code",
   "execution_count": 4,
   "metadata": {},
   "outputs": [
    {
     "data": {
      "text/plain": [
       "Index(['X', 'Y', 'OBJECTID', 'Province_State', 'Country_Region', 'Last_Update',\n",
       "       'Lat', 'Long_', 'Confirmed', 'Recovered', 'Deaths', 'Active', 'Admin2',\n",
       "       'FIPS', 'Combined_Key'],\n",
       "      dtype='object')"
      ]
     },
     "execution_count": 4,
     "metadata": {},
     "output_type": "execute_result"
    }
   ],
   "source": [
    "data.columns"
   ]
  },
  {
   "cell_type": "code",
   "execution_count": 5,
   "metadata": {},
   "outputs": [
    {
     "data": {
      "text/html": [
       "<div>\n",
       "<style scoped>\n",
       "    .dataframe tbody tr th:only-of-type {\n",
       "        vertical-align: middle;\n",
       "    }\n",
       "\n",
       "    .dataframe tbody tr th {\n",
       "        vertical-align: top;\n",
       "    }\n",
       "\n",
       "    .dataframe thead th {\n",
       "        text-align: right;\n",
       "    }\n",
       "</style>\n",
       "<table border=\"1\" class=\"dataframe\">\n",
       "  <thead>\n",
       "    <tr style=\"text-align: right;\">\n",
       "      <th></th>\n",
       "      <th>Province_State</th>\n",
       "      <th>Country_Region</th>\n",
       "      <th>Confirmed</th>\n",
       "      <th>Recovered</th>\n",
       "      <th>Deaths</th>\n",
       "      <th>Active</th>\n",
       "    </tr>\n",
       "  </thead>\n",
       "  <tbody>\n",
       "    <tr>\n",
       "      <th>0</th>\n",
       "      <td>NaN</td>\n",
       "      <td>Afghanistan</td>\n",
       "      <td>38324</td>\n",
       "      <td>30082</td>\n",
       "      <td>1409</td>\n",
       "      <td>6833</td>\n",
       "    </tr>\n",
       "    <tr>\n",
       "      <th>1</th>\n",
       "      <td>NaN</td>\n",
       "      <td>Albania</td>\n",
       "      <td>9967</td>\n",
       "      <td>5882</td>\n",
       "      <td>306</td>\n",
       "      <td>3779</td>\n",
       "    </tr>\n",
       "    <tr>\n",
       "      <th>2</th>\n",
       "      <td>NaN</td>\n",
       "      <td>Algeria</td>\n",
       "      <td>45773</td>\n",
       "      <td>32259</td>\n",
       "      <td>1539</td>\n",
       "      <td>11975</td>\n",
       "    </tr>\n",
       "    <tr>\n",
       "      <th>3</th>\n",
       "      <td>NaN</td>\n",
       "      <td>Andorra</td>\n",
       "      <td>1215</td>\n",
       "      <td>928</td>\n",
       "      <td>53</td>\n",
       "      <td>234</td>\n",
       "    </tr>\n",
       "    <tr>\n",
       "      <th>4</th>\n",
       "      <td>NaN</td>\n",
       "      <td>Angola</td>\n",
       "      <td>2876</td>\n",
       "      <td>1167</td>\n",
       "      <td>115</td>\n",
       "      <td>1594</td>\n",
       "    </tr>\n",
       "    <tr>\n",
       "      <th>5</th>\n",
       "      <td>NaN</td>\n",
       "      <td>Antigua and Barbuda</td>\n",
       "      <td>95</td>\n",
       "      <td>91</td>\n",
       "      <td>3</td>\n",
       "      <td>1</td>\n",
       "    </tr>\n",
       "    <tr>\n",
       "      <th>6</th>\n",
       "      <td>NaN</td>\n",
       "      <td>Argentina</td>\n",
       "      <td>461882</td>\n",
       "      <td>331621</td>\n",
       "      <td>9623</td>\n",
       "      <td>120638</td>\n",
       "    </tr>\n",
       "    <tr>\n",
       "      <th>7</th>\n",
       "      <td>NaN</td>\n",
       "      <td>Armenia</td>\n",
       "      <td>44649</td>\n",
       "      <td>39823</td>\n",
       "      <td>895</td>\n",
       "      <td>3931</td>\n",
       "    </tr>\n",
       "    <tr>\n",
       "      <th>8</th>\n",
       "      <td>Australian Capital Territory</td>\n",
       "      <td>Australia</td>\n",
       "      <td>113</td>\n",
       "      <td>110</td>\n",
       "      <td>3</td>\n",
       "      <td>0</td>\n",
       "    </tr>\n",
       "    <tr>\n",
       "      <th>9</th>\n",
       "      <td>New South Wales</td>\n",
       "      <td>Australia</td>\n",
       "      <td>4104</td>\n",
       "      <td>2994</td>\n",
       "      <td>52</td>\n",
       "      <td>1058</td>\n",
       "    </tr>\n",
       "  </tbody>\n",
       "</table>\n",
       "</div>"
      ],
      "text/plain": [
       "                 Province_State       Country_Region  Confirmed  Recovered  \\\n",
       "0                           NaN          Afghanistan      38324      30082   \n",
       "1                           NaN              Albania       9967       5882   \n",
       "2                           NaN              Algeria      45773      32259   \n",
       "3                           NaN              Andorra       1215        928   \n",
       "4                           NaN               Angola       2876       1167   \n",
       "5                           NaN  Antigua and Barbuda         95         91   \n",
       "6                           NaN            Argentina     461882     331621   \n",
       "7                           NaN              Armenia      44649      39823   \n",
       "8  Australian Capital Territory            Australia        113        110   \n",
       "9               New South Wales            Australia       4104       2994   \n",
       "\n",
       "   Deaths  Active  \n",
       "0    1409    6833  \n",
       "1     306    3779  \n",
       "2    1539   11975  \n",
       "3      53     234  \n",
       "4     115    1594  \n",
       "5       3       1  \n",
       "6    9623  120638  \n",
       "7     895    3931  \n",
       "8       3       0  \n",
       "9      52    1058  "
      ]
     },
     "execution_count": 5,
     "metadata": {},
     "output_type": "execute_result"
    }
   ],
   "source": [
    "#creating a new dataframe for the columns needed\n",
    "covid_df = data[['Province_State', 'Country_Region','Confirmed', 'Recovered', 'Deaths', 'Active']]\n",
    "covid_df.head(10)"
   ]
  },
  {
   "cell_type": "code",
   "execution_count": 6,
   "metadata": {},
   "outputs": [
    {
     "name": "stdout",
     "output_type": "stream",
     "text": [
      "<class 'pandas.core.frame.DataFrame'>\n",
      "RangeIndex: 744 entries, 0 to 743\n",
      "Data columns (total 6 columns):\n",
      "Province_State    576 non-null object\n",
      "Country_Region    744 non-null object\n",
      "Confirmed         744 non-null int64\n",
      "Recovered         744 non-null int64\n",
      "Deaths            744 non-null int64\n",
      "Active            744 non-null int64\n",
      "dtypes: int64(4), object(2)\n",
      "memory usage: 35.0+ KB\n"
     ]
    }
   ],
   "source": [
    "covid_df.info()"
   ]
  },
  {
   "cell_type": "markdown",
   "metadata": {},
   "source": [
    "### Top 10 most affected Countries by Cases"
   ]
  },
  {
   "cell_type": "code",
   "execution_count": 7,
   "metadata": {
    "scrolled": true
   },
   "outputs": [
    {
     "data": {
      "text/plain": [
       "Country_Region\n",
       "US              6202080\n",
       "Brazil          4091801\n",
       "India           4023179\n",
       "Russia          1017131\n",
       "Peru             676848\n",
       "Colombia         650055\n",
       "South Africa     635078\n",
       "Mexico           623090\n",
       "Spain            498989\n",
       "Argentina        461882\n",
       "Name: Confirmed, dtype: int64"
      ]
     },
     "execution_count": 7,
     "metadata": {},
     "output_type": "execute_result"
    }
   ],
   "source": [
    "top_cases = covid_df.groupby(\"Country_Region\")[\"Confirmed\"].sum().sort_values(ascending=False).head(10)\n",
    "top_cases"
   ]
  },
  {
   "cell_type": "code",
   "execution_count": 8,
   "metadata": {},
   "outputs": [
    {
     "data": {
      "image/png": "[encoded data removed]",
      "text/plain": [
       "<Figure size 1008x432 with 1 Axes>"
      ]
     },
     "metadata": {
      "needs_background": "light"
     },
     "output_type": "display_data"
    }
   ],
   "source": [
    "fig, ax = plt.subplots(figsize=(14, 6))\n",
    "\n",
    "top_cases.plot.bar()\n",
    "\n",
    "# Creates labels\n",
    "ax.set_xlabel('Countries')\n",
    "ax.set_ylabel('Number of Cases')\n",
    "# Sets the plot title\n",
    "ax.set_title(\"The Top 10 Most Affected Countries by Cases\")\n",
    "plt.savefig('Number_Cases.png', dpi=300, bbox_inches='tight')\n",
    "plt.show()"
   ]
  },
  {
   "cell_type": "markdown",
   "metadata": {},
   "source": [
    "The above graph shows the top 10 countries globally that confirmed the most cases of COVID-19. The US recorded about 6.2 Million cases followed by Brazil (4.1 M), India (4.0 M) and Russia (1.0 M). Argentina being the 10th country in rank recorded 461, 882 cases"
   ]
  },
  {
   "cell_type": "markdown",
   "metadata": {},
   "source": [
    "### Top 10 most affected Countries by Death\n"
   ]
  },
  {
   "cell_type": "code",
   "execution_count": 9,
   "metadata": {},
   "outputs": [
    {
     "data": {
      "text/plain": [
       "Country_Region\n",
       "US                187768\n",
       "Brazil            125502\n",
       "India              69561\n",
       "Mexico             66851\n",
       "United Kingdom     41626\n",
       "Italy              35518\n",
       "France             30730\n",
       "Peru               29554\n",
       "Spain              29418\n",
       "Iran               22044\n",
       "Name: Deaths, dtype: int64"
      ]
     },
     "execution_count": 9,
     "metadata": {},
     "output_type": "execute_result"
    }
   ],
   "source": [
    "top_deaths = covid_df.groupby(\"Country_Region\")[\"Deaths\"].sum().sort_values(ascending=False).head(10)\n",
    "top_deaths"
   ]
  },
  {
   "cell_type": "code",
   "execution_count": 10,
   "metadata": {},
   "outputs": [
    {
     "data": {
      "image/png": "[encoded data removed]",
      "text/plain": [
       "<Figure size 1008x432 with 1 Axes>"
      ]
     },
     "metadata": {
      "needs_background": "light"
     },
     "output_type": "display_data"
    }
   ],
   "source": [
    "fig, ax = plt.subplots(figsize=(14, 6))\n",
    "\n",
    "top_deaths.plot.bar()\n",
    "\n",
    "# Creates labels\n",
    "ax.set_xlabel('Countries')\n",
    "ax.set_ylabel('Number of Deaths')\n",
    "# Sets the plot title\n",
    "ax.set_title(\"The Top 10 Most Affected Countries by Deaths\")\n",
    "plt.savefig('Deaths.png', dpi=300, bbox_inches='tight')\n",
    "plt.show()"
   ]
  },
  {
   "cell_type": "markdown",
   "metadata": {},
   "source": [
    "The countries which recorded the most deaths resulting from COVID-19 are US (187,768), Brazil (125,502), India (69,561), Mexico (66,851) and the United Kingdom (41,626)."
   ]
  },
  {
   "cell_type": "markdown",
   "metadata": {},
   "source": [
    "### Top 10 Countries with most Recovered cases"
   ]
  },
  {
   "cell_type": "code",
   "execution_count": 11,
   "metadata": {},
   "outputs": [
    {
     "data": {
      "text/plain": [
       "Country_Region\n",
       "Brazil          3464278\n",
       "India           3107223\n",
       "US              2283454\n",
       "Russia           835884\n",
       "South Africa     557818\n",
       "Mexico           514663\n",
       "Peru             498523\n",
       "Colombia         498165\n",
       "Chile            391248\n",
       "Argentina        331621\n",
       "Name: Recovered, dtype: int64"
      ]
     },
     "execution_count": 11,
     "metadata": {},
     "output_type": "execute_result"
    }
   ],
   "source": [
    "top_recover = covid_df.groupby(\"Country_Region\")[\"Recovered\"].sum().sort_values(ascending=False).head(10)\n",
    "top_recover"
   ]
  },
  {
   "cell_type": "code",
   "execution_count": 12,
   "metadata": {},
   "outputs": [
    {
     "data": {
      "image/png": "[encoded data removed]",
      "text/plain": [
       "<Figure size 1008x432 with 1 Axes>"
      ]
     },
     "metadata": {
      "needs_background": "light"
     },
     "output_type": "display_data"
    }
   ],
   "source": [
    "fig, ax = plt.subplots(figsize=(14, 6))\n",
    "\n",
    "top_recover.plot.bar()\n",
    "\n",
    "# Creates labels\n",
    "ax.set_xlabel('Countries')\n",
    "ax.set_ylabel('Number of Recoveries')\n",
    "# Sets the plot title\n",
    "ax.set_title(\"The Top 10 Countries by Recoveries\")\n",
    "plt.savefig('Recoveries.png', dpi=300, bbox_inches='tight')\n",
    "plt.show()"
   ]
  },
  {
   "cell_type": "markdown",
   "metadata": {},
   "source": [
    "From the figure above, Brazil (3.4 M), India (3.1 M) and the US (2.2 M) have recorded high number of recoveries due to COVID-19 among the top 10 recoveries by countries."
   ]
  },
  {
   "cell_type": "markdown",
   "metadata": {},
   "source": [
    "### Top 10 Countries with most Active Cases"
   ]
  },
  {
   "cell_type": "code",
   "execution_count": 13,
   "metadata": {},
   "outputs": [
    {
     "data": {
      "text/plain": [
       "Country_Region\n",
       "US                3730854\n",
       "India              846395\n",
       "Brazil             502021\n",
       "Spain              319195\n",
       "United Kingdom     301304\n",
       "France             228610\n",
       "Russia             163540\n",
       "Peru               148771\n",
       "Colombia           130950\n",
       "Argentina          120638\n",
       "Name: Active, dtype: int64"
      ]
     },
     "execution_count": 13,
     "metadata": {},
     "output_type": "execute_result"
    }
   ],
   "source": [
    "top_act_cases = covid_df.groupby(\"Country_Region\")[\"Active\"].sum().sort_values(ascending=False).head(10)\n",
    "top_act_cases"
   ]
  },
  {
   "cell_type": "code",
   "execution_count": 14,
   "metadata": {},
   "outputs": [
    {
     "data": {
      "image/png": "[encoded data removed]",
      "text/plain": [
       "<Figure size 1008x432 with 1 Axes>"
      ]
     },
     "metadata": {
      "needs_background": "light"
     },
     "output_type": "display_data"
    }
   ],
   "source": [
    "fig, ax = plt.subplots(figsize=(14, 6))\n",
    "\n",
    "top_act_cases.plot.bar()\n",
    "\n",
    "# Creates labels\n",
    "ax.set_xlabel('Countries')\n",
    "ax.set_ylabel('Number of Active Cases')\n",
    "# Sets the plot title\n",
    "ax.set_title(\"The Top 10 Countries with the Most Active Cases\")\n",
    "plt.savefig('active_cases.png', dpi=300, bbox_inches='tight')\n",
    "plt.show()"
   ]
  },
  {
   "cell_type": "markdown",
   "metadata": {},
   "source": [
    "Active cases due to COVID-19 are people who currently have the disease, thus they have not recovered yet. This is derived by substrating the total number of deaths from the total number of cases. The US has the highest number of active cases of 3.7 Million. "
   ]
  },
  {
   "cell_type": "code",
   "execution_count": null,
   "metadata": {},
   "outputs": [],
   "source": []
  },
  {
   "cell_type": "markdown",
   "metadata": {},
   "source": [
    "# Most Affected States "
   ]
  },
  {
   "cell_type": "code",
   "execution_count": 15,
   "metadata": {},
   "outputs": [],
   "source": [
    "# Droping missing values in the states\n",
    "covid_df = covid_df.dropna()"
   ]
  },
  {
   "cell_type": "code",
   "execution_count": 16,
   "metadata": {},
   "outputs": [
    {
     "name": "stdout",
     "output_type": "stream",
     "text": [
      "<class 'pandas.core.frame.DataFrame'>\n",
      "Int64Index: 576 entries, 8 to 743\n",
      "Data columns (total 6 columns):\n",
      "Province_State    576 non-null object\n",
      "Country_Region    576 non-null object\n",
      "Confirmed         576 non-null int64\n",
      "Recovered         576 non-null int64\n",
      "Deaths            576 non-null int64\n",
      "Active            576 non-null int64\n",
      "dtypes: int64(4), object(2)\n",
      "memory usage: 31.5+ KB\n"
     ]
    }
   ],
   "source": [
    "covid_df.info()"
   ]
  },
  {
   "cell_type": "markdown",
   "metadata": {},
   "source": [
    "### Most Affected States in USA"
   ]
  },
  {
   "cell_type": "code",
   "execution_count": 17,
   "metadata": {},
   "outputs": [
    {
     "data": {
      "text/html": [
       "<div>\n",
       "<style scoped>\n",
       "    .dataframe tbody tr th:only-of-type {\n",
       "        vertical-align: middle;\n",
       "    }\n",
       "\n",
       "    .dataframe tbody tr th {\n",
       "        vertical-align: top;\n",
       "    }\n",
       "\n",
       "    .dataframe thead th {\n",
       "        text-align: right;\n",
       "    }\n",
       "</style>\n",
       "<table border=\"1\" class=\"dataframe\">\n",
       "  <thead>\n",
       "    <tr style=\"text-align: right;\">\n",
       "      <th></th>\n",
       "      <th>Province_State</th>\n",
       "      <th>Country_Region</th>\n",
       "      <th>Confirmed</th>\n",
       "      <th>Recovered</th>\n",
       "      <th>Deaths</th>\n",
       "      <th>Active</th>\n",
       "    </tr>\n",
       "  </thead>\n",
       "  <tbody>\n",
       "    <tr>\n",
       "      <th>684</th>\n",
       "      <td>Mississippi</td>\n",
       "      <td>US</td>\n",
       "      <td>85939</td>\n",
       "      <td>0</td>\n",
       "      <td>2558</td>\n",
       "      <td>83381</td>\n",
       "    </tr>\n",
       "    <tr>\n",
       "      <th>685</th>\n",
       "      <td>Grand Princess</td>\n",
       "      <td>US</td>\n",
       "      <td>103</td>\n",
       "      <td>0</td>\n",
       "      <td>3</td>\n",
       "      <td>100</td>\n",
       "    </tr>\n",
       "    <tr>\n",
       "      <th>686</th>\n",
       "      <td>Oklahoma</td>\n",
       "      <td>US</td>\n",
       "      <td>62040</td>\n",
       "      <td>0</td>\n",
       "      <td>846</td>\n",
       "      <td>61194</td>\n",
       "    </tr>\n",
       "    <tr>\n",
       "      <th>687</th>\n",
       "      <td>Delaware</td>\n",
       "      <td>US</td>\n",
       "      <td>17752</td>\n",
       "      <td>0</td>\n",
       "      <td>606</td>\n",
       "      <td>17146</td>\n",
       "    </tr>\n",
       "    <tr>\n",
       "      <th>688</th>\n",
       "      <td>Minnesota</td>\n",
       "      <td>US</td>\n",
       "      <td>78966</td>\n",
       "      <td>0</td>\n",
       "      <td>1899</td>\n",
       "      <td>77067</td>\n",
       "    </tr>\n",
       "  </tbody>\n",
       "</table>\n",
       "</div>"
      ],
      "text/plain": [
       "     Province_State Country_Region  Confirmed  Recovered  Deaths  Active\n",
       "684     Mississippi             US      85939          0    2558   83381\n",
       "685  Grand Princess             US        103          0       3     100\n",
       "686        Oklahoma             US      62040          0     846   61194\n",
       "687        Delaware             US      17752          0     606   17146\n",
       "688       Minnesota             US      78966          0    1899   77067"
      ]
     },
     "execution_count": 17,
     "metadata": {},
     "output_type": "execute_result"
    }
   ],
   "source": [
    "US_ = covid_df[covid_df[\"Country_Region\"] == \"US\"]\n",
    "US_.head()"
   ]
  },
  {
   "cell_type": "code",
   "execution_count": 18,
   "metadata": {},
   "outputs": [
    {
     "data": {
      "text/plain": [
       "Province_State\n",
       "New York         32982\n",
       "New Jersey       15978\n",
       "California       13648\n",
       "Texas            13426\n",
       "Florida          11750\n",
       "Massachusetts     9100\n",
       "Illinois          8362\n",
       "Pennsylvania      7735\n",
       "Michigan          6798\n",
       "Georgia           5931\n",
       "Name: Deaths, dtype: int64"
      ]
     },
     "execution_count": 18,
     "metadata": {},
     "output_type": "execute_result"
    }
   ],
   "source": [
    "US = US_.groupby([\"Province_State\" ])[\"Deaths\"].max().sort_values(ascending=False).head(10)\n",
    "US"
   ]
  },
  {
   "cell_type": "code",
   "execution_count": 19,
   "metadata": {},
   "outputs": [
    {
     "data": {
      "image/png": "[encoded data removed]",
      "text/plain": [
       "<Figure size 1008x432 with 1 Axes>"
      ]
     },
     "metadata": {
      "needs_background": "light"
     },
     "output_type": "display_data"
    }
   ],
   "source": [
    "fig, ax = plt.subplots(figsize=(14, 6))\n",
    "\n",
    "US.plot.bar()\n",
    "\n",
    "# Creates labels\n",
    "ax.set_xlabel('States')\n",
    "ax.set_ylabel('Number of Deaths')\n",
    "# Sets the plot title\n",
    "ax.set_title(\"The Top 10 Most Affected States in the US by Deaths\")\n",
    "plt.savefig('US_states.png', dpi=300, bbox_inches='tight')\n",
    "plt.show()"
   ]
  },
  {
   "cell_type": "markdown",
   "metadata": {},
   "source": [
    "The figure above depicts the top 10 states in the US that are mostly affected by deaths due to COVID-19. These states are New York, New Jersey, California, Texas, Florida, Massachusetts, Illinois, Pennsyvania, Michigan and Georgia. "
   ]
  },
  {
   "cell_type": "markdown",
   "metadata": {},
   "source": [
    "### Most Affected States in Brazil"
   ]
  },
  {
   "cell_type": "code",
   "execution_count": 20,
   "metadata": {},
   "outputs": [],
   "source": [
    "Brazil_ = covid_df[covid_df[\"Country_Region\"] == \"Brazil\"]"
   ]
  },
  {
   "cell_type": "code",
   "execution_count": 21,
   "metadata": {
    "scrolled": true
   },
   "outputs": [
    {
     "data": {
      "text/html": [
       "<div>\n",
       "<style scoped>\n",
       "    .dataframe tbody tr th:only-of-type {\n",
       "        vertical-align: middle;\n",
       "    }\n",
       "\n",
       "    .dataframe tbody tr th {\n",
       "        vertical-align: top;\n",
       "    }\n",
       "\n",
       "    .dataframe thead th {\n",
       "        text-align: right;\n",
       "    }\n",
       "</style>\n",
       "<table border=\"1\" class=\"dataframe\">\n",
       "  <thead>\n",
       "    <tr style=\"text-align: right;\">\n",
       "      <th></th>\n",
       "      <th>Province_State</th>\n",
       "      <th>Country_Region</th>\n",
       "      <th>Confirmed</th>\n",
       "      <th>Recovered</th>\n",
       "      <th>Deaths</th>\n",
       "      <th>Active</th>\n",
       "    </tr>\n",
       "  </thead>\n",
       "  <tbody>\n",
       "    <tr>\n",
       "      <th>30</th>\n",
       "      <td>Acre</td>\n",
       "      <td>Brazil</td>\n",
       "      <td>25249</td>\n",
       "      <td>19695</td>\n",
       "      <td>623</td>\n",
       "      <td>4931</td>\n",
       "    </tr>\n",
       "    <tr>\n",
       "      <th>31</th>\n",
       "      <td>Alagoas</td>\n",
       "      <td>Brazil</td>\n",
       "      <td>80103</td>\n",
       "      <td>75498</td>\n",
       "      <td>1917</td>\n",
       "      <td>2688</td>\n",
       "    </tr>\n",
       "    <tr>\n",
       "      <th>32</th>\n",
       "      <td>Amapa</td>\n",
       "      <td>Brazil</td>\n",
       "      <td>44454</td>\n",
       "      <td>32404</td>\n",
       "      <td>670</td>\n",
       "      <td>11380</td>\n",
       "    </tr>\n",
       "    <tr>\n",
       "      <th>33</th>\n",
       "      <td>Amazonas</td>\n",
       "      <td>Brazil</td>\n",
       "      <td>123187</td>\n",
       "      <td>104526</td>\n",
       "      <td>3841</td>\n",
       "      <td>14820</td>\n",
       "    </tr>\n",
       "    <tr>\n",
       "      <th>34</th>\n",
       "      <td>Bahia</td>\n",
       "      <td>Brazil</td>\n",
       "      <td>268137</td>\n",
       "      <td>250309</td>\n",
       "      <td>5590</td>\n",
       "      <td>12238</td>\n",
       "    </tr>\n",
       "  </tbody>\n",
       "</table>\n",
       "</div>"
      ],
      "text/plain": [
       "   Province_State Country_Region  Confirmed  Recovered  Deaths  Active\n",
       "30           Acre         Brazil      25249      19695     623    4931\n",
       "31        Alagoas         Brazil      80103      75498    1917    2688\n",
       "32          Amapa         Brazil      44454      32404     670   11380\n",
       "33       Amazonas         Brazil     123187     104526    3841   14820\n",
       "34          Bahia         Brazil     268137     250309    5590   12238"
      ]
     },
     "execution_count": 21,
     "metadata": {},
     "output_type": "execute_result"
    }
   ],
   "source": [
    "Brazil_.head()"
   ]
  },
  {
   "cell_type": "code",
   "execution_count": 22,
   "metadata": {},
   "outputs": [
    {
     "data": {
      "text/plain": [
       "Province_State\n",
       "Sao Paulo         31091\n",
       "Rio de Janeiro    16467\n",
       "Ceara              8555\n",
       "Pernambuco         7619\n",
       "Para               6228\n",
       "Name: Deaths, dtype: int64"
      ]
     },
     "execution_count": 22,
     "metadata": {},
     "output_type": "execute_result"
    }
   ],
   "source": [
    "Brazil = Brazil_.groupby([\"Province_State\" ])[\"Deaths\"].max().sort_values(ascending=False).head(10)\n",
    "Brazil.head()"
   ]
  },
  {
   "cell_type": "code",
   "execution_count": 23,
   "metadata": {},
   "outputs": [
    {
     "data": {
      "image/png": "[encoded data removed]",
      "text/plain": [
       "<Figure size 1008x432 with 1 Axes>"
      ]
     },
     "metadata": {
      "needs_background": "light"
     },
     "output_type": "display_data"
    }
   ],
   "source": [
    "fig, ax = plt.subplots(figsize=(14, 6))\n",
    "\n",
    "Brazil.plot.bar()\n",
    "\n",
    "# Creates labels\n",
    "ax.set_xlabel('States')\n",
    "ax.set_ylabel('Number of Deaths')\n",
    "# Sets the plot title\n",
    "ax.set_title(\"The Top 10 Most Affected States in Brazil by Deaths\")\n",
    "plt.savefig('Brazil_states.png', dpi=300, bbox_inches='tight')\n",
    "plt.show()"
   ]
  },
  {
   "cell_type": "markdown",
   "metadata": {},
   "source": [
    "The most affected states in Brazil by deaths are Sao Paulo followed by Rio de Janeiro, Ceara and Pernambuco."
   ]
  },
  {
   "cell_type": "markdown",
   "metadata": {},
   "source": [
    "### Most Affected States in India"
   ]
  },
  {
   "cell_type": "code",
   "execution_count": 24,
   "metadata": {},
   "outputs": [
    {
     "data": {
      "text/html": [
       "<div>\n",
       "<style scoped>\n",
       "    .dataframe tbody tr th:only-of-type {\n",
       "        vertical-align: middle;\n",
       "    }\n",
       "\n",
       "    .dataframe tbody tr th {\n",
       "        vertical-align: top;\n",
       "    }\n",
       "\n",
       "    .dataframe thead th {\n",
       "        text-align: right;\n",
       "    }\n",
       "</style>\n",
       "<table border=\"1\" class=\"dataframe\">\n",
       "  <thead>\n",
       "    <tr style=\"text-align: right;\">\n",
       "      <th></th>\n",
       "      <th>Province_State</th>\n",
       "      <th>Country_Region</th>\n",
       "      <th>Confirmed</th>\n",
       "      <th>Recovered</th>\n",
       "      <th>Deaths</th>\n",
       "      <th>Active</th>\n",
       "    </tr>\n",
       "  </thead>\n",
       "  <tbody>\n",
       "    <tr>\n",
       "      <th>233</th>\n",
       "      <td>Andaman and Nicobar Islands</td>\n",
       "      <td>India</td>\n",
       "      <td>3257</td>\n",
       "      <td>2863</td>\n",
       "      <td>49</td>\n",
       "      <td>345</td>\n",
       "    </tr>\n",
       "    <tr>\n",
       "      <th>234</th>\n",
       "      <td>Andhra Pradesh</td>\n",
       "      <td>India</td>\n",
       "      <td>476506</td>\n",
       "      <td>370163</td>\n",
       "      <td>4276</td>\n",
       "      <td>102067</td>\n",
       "    </tr>\n",
       "    <tr>\n",
       "      <th>235</th>\n",
       "      <td>Arunachal Pradesh</td>\n",
       "      <td>India</td>\n",
       "      <td>4775</td>\n",
       "      <td>3280</td>\n",
       "      <td>7</td>\n",
       "      <td>1488</td>\n",
       "    </tr>\n",
       "    <tr>\n",
       "      <th>236</th>\n",
       "      <td>Assam</td>\n",
       "      <td>India</td>\n",
       "      <td>121224</td>\n",
       "      <td>92720</td>\n",
       "      <td>345</td>\n",
       "      <td>28159</td>\n",
       "    </tr>\n",
       "    <tr>\n",
       "      <th>237</th>\n",
       "      <td>Bihar</td>\n",
       "      <td>India</td>\n",
       "      <td>144104</td>\n",
       "      <td>126371</td>\n",
       "      <td>701</td>\n",
       "      <td>17032</td>\n",
       "    </tr>\n",
       "  </tbody>\n",
       "</table>\n",
       "</div>"
      ],
      "text/plain": [
       "                  Province_State Country_Region  Confirmed  Recovered  Deaths  \\\n",
       "233  Andaman and Nicobar Islands          India       3257       2863      49   \n",
       "234               Andhra Pradesh          India     476506     370163    4276   \n",
       "235            Arunachal Pradesh          India       4775       3280       7   \n",
       "236                        Assam          India     121224      92720     345   \n",
       "237                        Bihar          India     144104     126371     701   \n",
       "\n",
       "     Active  \n",
       "233     345  \n",
       "234  102067  \n",
       "235    1488  \n",
       "236   28159  \n",
       "237   17032  "
      ]
     },
     "execution_count": 24,
     "metadata": {},
     "output_type": "execute_result"
    }
   ],
   "source": [
    "India_ = covid_df[covid_df[\"Country_Region\"] == \"India\"]\n",
    "India_.head()"
   ]
  },
  {
   "cell_type": "code",
   "execution_count": 25,
   "metadata": {},
   "outputs": [
    {
     "data": {
      "text/plain": [
       "Province_State\n",
       "Maharashtra       25964\n",
       "Tamil Nadu         7687\n",
       "Karnataka          6170\n",
       "Delhi              4513\n",
       "Andhra Pradesh     4276\n",
       "Name: Deaths, dtype: int64"
      ]
     },
     "execution_count": 25,
     "metadata": {},
     "output_type": "execute_result"
    }
   ],
   "source": [
    "India = India_.groupby([\"Province_State\" ])[\"Deaths\"].max().sort_values(ascending=False).head(10)\n",
    "India.head()"
   ]
  },
  {
   "cell_type": "code",
   "execution_count": 26,
   "metadata": {},
   "outputs": [
    {
     "data": {
      "image/png": "[encoded data removed]",
      "text/plain": [
       "<Figure size 1008x432 with 1 Axes>"
      ]
     },
     "metadata": {
      "needs_background": "light"
     },
     "output_type": "display_data"
    }
   ],
   "source": [
    "fig, ax = plt.subplots(figsize=(14, 6))\n",
    "\n",
    "India.plot.bar()\n",
    "\n",
    "# Creates labels\n",
    "ax.set_xlabel('States')\n",
    "ax.set_ylabel('Number of Deaths')\n",
    "# Sets the plot title\n",
    "ax.set_title(\"The Top 10 Most Affected States in India by Deaths\")\n",
    "plt.savefig('India_states.png', dpi=300, bbox_inches='tight')\n",
    "plt.show()"
   ]
  },
  {
   "cell_type": "markdown",
   "metadata": {},
   "source": [
    "The most affected states in Brazil by deaths are Maharashtra, Tamil Nadu, Karnataka, Delhi and Andhra Pradesh."
   ]
  },
  {
   "cell_type": "markdown",
   "metadata": {},
   "source": [
    "### Most Affected States in Russia"
   ]
  },
  {
   "cell_type": "code",
   "execution_count": 27,
   "metadata": {},
   "outputs": [
    {
     "data": {
      "text/html": [
       "<div>\n",
       "<style scoped>\n",
       "    .dataframe tbody tr th:only-of-type {\n",
       "        vertical-align: middle;\n",
       "    }\n",
       "\n",
       "    .dataframe tbody tr th {\n",
       "        vertical-align: top;\n",
       "    }\n",
       "\n",
       "    .dataframe thead th {\n",
       "        text-align: right;\n",
       "    }\n",
       "</style>\n",
       "<table border=\"1\" class=\"dataframe\">\n",
       "  <thead>\n",
       "    <tr style=\"text-align: right;\">\n",
       "      <th></th>\n",
       "      <th>Province_State</th>\n",
       "      <th>Country_Region</th>\n",
       "      <th>Confirmed</th>\n",
       "      <th>Recovered</th>\n",
       "      <th>Deaths</th>\n",
       "      <th>Active</th>\n",
       "    </tr>\n",
       "  </thead>\n",
       "  <tbody>\n",
       "    <tr>\n",
       "      <th>476</th>\n",
       "      <td>Adygea Republic</td>\n",
       "      <td>Russia</td>\n",
       "      <td>3480</td>\n",
       "      <td>2964</td>\n",
       "      <td>29</td>\n",
       "      <td>487</td>\n",
       "    </tr>\n",
       "    <tr>\n",
       "      <th>477</th>\n",
       "      <td>Altai Krai</td>\n",
       "      <td>Russia</td>\n",
       "      <td>12033</td>\n",
       "      <td>10820</td>\n",
       "      <td>123</td>\n",
       "      <td>1090</td>\n",
       "    </tr>\n",
       "    <tr>\n",
       "      <th>478</th>\n",
       "      <td>Altai Republic</td>\n",
       "      <td>Russia</td>\n",
       "      <td>2252</td>\n",
       "      <td>1945</td>\n",
       "      <td>8</td>\n",
       "      <td>299</td>\n",
       "    </tr>\n",
       "    <tr>\n",
       "      <th>479</th>\n",
       "      <td>Amur Oblast</td>\n",
       "      <td>Russia</td>\n",
       "      <td>3537</td>\n",
       "      <td>3119</td>\n",
       "      <td>47</td>\n",
       "      <td>371</td>\n",
       "    </tr>\n",
       "    <tr>\n",
       "      <th>480</th>\n",
       "      <td>Arkhangelsk Oblast</td>\n",
       "      <td>Russia</td>\n",
       "      <td>11131</td>\n",
       "      <td>9222</td>\n",
       "      <td>254</td>\n",
       "      <td>1655</td>\n",
       "    </tr>\n",
       "  </tbody>\n",
       "</table>\n",
       "</div>"
      ],
      "text/plain": [
       "         Province_State Country_Region  Confirmed  Recovered  Deaths  Active\n",
       "476     Adygea Republic         Russia       3480       2964      29     487\n",
       "477          Altai Krai         Russia      12033      10820     123    1090\n",
       "478      Altai Republic         Russia       2252       1945       8     299\n",
       "479         Amur Oblast         Russia       3537       3119      47     371\n",
       "480  Arkhangelsk Oblast         Russia      11131       9222     254    1655"
      ]
     },
     "execution_count": 27,
     "metadata": {},
     "output_type": "execute_result"
    }
   ],
   "source": [
    "#Filtering the countries\n",
    "Russia_ = covid_df[covid_df[\"Country_Region\"] == \"Russia\"]\n",
    "Russia_.head()"
   ]
  },
  {
   "cell_type": "code",
   "execution_count": 28,
   "metadata": {},
   "outputs": [
    {
     "data": {
      "text/plain": [
       "Province_State\n",
       "Moscow               4878\n",
       "Saint Petersburg     2522\n",
       "Moscow Oblast        1213\n",
       "Dagestan Republic     507\n",
       "Krasnoyarsk Krai      501\n",
       "Name: Deaths, dtype: int64"
      ]
     },
     "execution_count": 28,
     "metadata": {},
     "output_type": "execute_result"
    }
   ],
   "source": [
    "Russia = Russia_.groupby([\"Province_State\" ])[\"Deaths\"].max().sort_values(ascending=False).head(10)\n",
    "Russia.head()"
   ]
  },
  {
   "cell_type": "code",
   "execution_count": 29,
   "metadata": {},
   "outputs": [
    {
     "data": {
      "image/png": "[encoded data removed]",
      "text/plain": [
       "<Figure size 1008x432 with 1 Axes>"
      ]
     },
     "metadata": {
      "needs_background": "light"
     },
     "output_type": "display_data"
    }
   ],
   "source": [
    "fig, ax = plt.subplots(figsize=(14, 6))\n",
    "\n",
    "Russia.plot.bar()\n",
    "\n",
    "# Creates labels\n",
    "ax.set_xlabel('States')\n",
    "ax.set_ylabel('Number of Deaths')\n",
    "# Sets the plot title\n",
    "ax.set_title(\"The Top 10 Most Affected States in Russia by Deaths\")\n",
    "plt.savefig('Russia_states.png', dpi=300, bbox_inches='tight')\n",
    "plt.show()"
   ]
  },
  {
   "cell_type": "markdown",
   "metadata": {},
   "source": [
    "The states within Russia that recorded the most deaths due to COVID-19 are Moscow, Saint Petersburg, Moscow Oblast, Dagestan Republic and Krasnoyarsk Krai."
   ]
  },
  {
   "cell_type": "code",
   "execution_count": null,
   "metadata": {},
   "outputs": [],
   "source": []
  }
 ],
 "metadata": {
  "kernelspec": {
   "display_name": "Python 3",
   "language": "python",
   "name": "python3"
  },
  "language_info": {
   "codemirror_mode": {
    "name": "ipython",
    "version": 3
   },
   "file_extension": ".py",
   "mimetype": "text/x-python",
   "name": "python",
   "nbconvert_exporter": "python",
   "pygments_lexer": "ipython3",
   "version": "3.7.1"
  }
 },
 "nbformat": 4,
 "nbformat_minor": 2
}
