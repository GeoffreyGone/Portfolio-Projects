{
 "cells": [
  {
   "cell_type": "markdown",
   "metadata": {},
   "source": [
    "## Exploratory Data Analysis\n",
    "\n",
    "### Dictionary:\n",
    "age; workclass; fnlwgt; education; education-num; marital-status; occupation; relationship; race; sex: 1 if female else 0; capital-gain; capital-loss; hours-per-week; native-country; target: 1 if >50K else 0;* age;"
   ]
  },
  {
   "cell_type": "code",
   "execution_count": 1,
   "metadata": {},
   "outputs": [],
   "source": [
    "import pandas as pd\n",
    "import matplotlib.pyplot as plt\n",
    "import seaborn as sns\n",
    "\n",
    "plt.style.use('Solarize_Light2')"
   ]
  },
  {
   "cell_type": "code",
   "execution_count": 2,
   "metadata": {},
   "outputs": [],
   "source": [
    "census_data = pd.read_csv('https://raw.githubusercontent.com/renfelo/datascience/master/others/data_science/notebooks/city_census/data/census.csv')"
   ]
  },
  {
   "cell_type": "code",
   "execution_count": 3,
   "metadata": {},
   "outputs": [
    {
     "data": {
      "text/html": [
       "<div>\n",
       "<style scoped>\n",
       "    .dataframe tbody tr th:only-of-type {\n",
       "        vertical-align: middle;\n",
       "    }\n",
       "\n",
       "    .dataframe tbody tr th {\n",
       "        vertical-align: top;\n",
       "    }\n",
       "\n",
       "    .dataframe thead th {\n",
       "        text-align: right;\n",
       "    }\n",
       "</style>\n",
       "<table border=\"1\" class=\"dataframe\">\n",
       "  <thead>\n",
       "    <tr style=\"text-align: right;\">\n",
       "      <th></th>\n",
       "      <th>age</th>\n",
       "      <th>workclass</th>\n",
       "      <th>fnlwgt</th>\n",
       "      <th>education</th>\n",
       "      <th>education-num</th>\n",
       "      <th>marital-status</th>\n",
       "      <th>occupation</th>\n",
       "      <th>relationship</th>\n",
       "      <th>race</th>\n",
       "      <th>sex</th>\n",
       "      <th>capital-gain</th>\n",
       "      <th>capital-loss</th>\n",
       "      <th>hours-per-week</th>\n",
       "      <th>native-country</th>\n",
       "      <th>target</th>\n",
       "    </tr>\n",
       "  </thead>\n",
       "  <tbody>\n",
       "    <tr>\n",
       "      <th>0</th>\n",
       "      <td>39</td>\n",
       "      <td>State gov</td>\n",
       "      <td>77516</td>\n",
       "      <td>Bachelors</td>\n",
       "      <td>13</td>\n",
       "      <td>Never married</td>\n",
       "      <td>Adm clerical</td>\n",
       "      <td>Not in family</td>\n",
       "      <td>White</td>\n",
       "      <td>0</td>\n",
       "      <td>2174</td>\n",
       "      <td>0</td>\n",
       "      <td>40</td>\n",
       "      <td>United States</td>\n",
       "      <td>0</td>\n",
       "    </tr>\n",
       "    <tr>\n",
       "      <th>1</th>\n",
       "      <td>50</td>\n",
       "      <td>Self emp not inc</td>\n",
       "      <td>83311</td>\n",
       "      <td>Bachelors</td>\n",
       "      <td>13</td>\n",
       "      <td>Married civ spouse</td>\n",
       "      <td>Exec managerial</td>\n",
       "      <td>Husband</td>\n",
       "      <td>White</td>\n",
       "      <td>0</td>\n",
       "      <td>0</td>\n",
       "      <td>0</td>\n",
       "      <td>13</td>\n",
       "      <td>United States</td>\n",
       "      <td>0</td>\n",
       "    </tr>\n",
       "    <tr>\n",
       "      <th>2</th>\n",
       "      <td>38</td>\n",
       "      <td>Private</td>\n",
       "      <td>215646</td>\n",
       "      <td>HS grad</td>\n",
       "      <td>9</td>\n",
       "      <td>Divorced</td>\n",
       "      <td>Handlers cleaners</td>\n",
       "      <td>Not in family</td>\n",
       "      <td>White</td>\n",
       "      <td>0</td>\n",
       "      <td>0</td>\n",
       "      <td>0</td>\n",
       "      <td>40</td>\n",
       "      <td>United States</td>\n",
       "      <td>0</td>\n",
       "    </tr>\n",
       "    <tr>\n",
       "      <th>3</th>\n",
       "      <td>53</td>\n",
       "      <td>Private</td>\n",
       "      <td>234721</td>\n",
       "      <td>11th</td>\n",
       "      <td>7</td>\n",
       "      <td>Married civ spouse</td>\n",
       "      <td>Handlers cleaners</td>\n",
       "      <td>Husband</td>\n",
       "      <td>Black</td>\n",
       "      <td>0</td>\n",
       "      <td>0</td>\n",
       "      <td>0</td>\n",
       "      <td>40</td>\n",
       "      <td>United States</td>\n",
       "      <td>0</td>\n",
       "    </tr>\n",
       "    <tr>\n",
       "      <th>4</th>\n",
       "      <td>28</td>\n",
       "      <td>Private</td>\n",
       "      <td>338409</td>\n",
       "      <td>Bachelors</td>\n",
       "      <td>13</td>\n",
       "      <td>Married civ spouse</td>\n",
       "      <td>Prof specialty</td>\n",
       "      <td>Wife</td>\n",
       "      <td>Black</td>\n",
       "      <td>1</td>\n",
       "      <td>0</td>\n",
       "      <td>0</td>\n",
       "      <td>40</td>\n",
       "      <td>Cuba</td>\n",
       "      <td>0</td>\n",
       "    </tr>\n",
       "  </tbody>\n",
       "</table>\n",
       "</div>"
      ],
      "text/plain": [
       "   age         workclass  fnlwgt  education  education-num  \\\n",
       "0   39         State gov   77516  Bachelors             13   \n",
       "1   50  Self emp not inc   83311  Bachelors             13   \n",
       "2   38           Private  215646    HS grad              9   \n",
       "3   53           Private  234721       11th              7   \n",
       "4   28           Private  338409  Bachelors             13   \n",
       "\n",
       "       marital-status         occupation   relationship   race  sex  \\\n",
       "0       Never married       Adm clerical  Not in family  White    0   \n",
       "1  Married civ spouse    Exec managerial        Husband  White    0   \n",
       "2            Divorced  Handlers cleaners  Not in family  White    0   \n",
       "3  Married civ spouse  Handlers cleaners        Husband  Black    0   \n",
       "4  Married civ spouse     Prof specialty           Wife  Black    1   \n",
       "\n",
       "   capital-gain  capital-loss  hours-per-week native-country  target  \n",
       "0          2174             0              40  United States       0  \n",
       "1             0             0              13  United States       0  \n",
       "2             0             0              40  United States       0  \n",
       "3             0             0              40  United States       0  \n",
       "4             0             0              40           Cuba       0  "
      ]
     },
     "execution_count": 3,
     "metadata": {},
     "output_type": "execute_result"
    }
   ],
   "source": [
    "census_data.head()"
   ]
  },
  {
   "cell_type": "code",
   "execution_count": 4,
   "metadata": {},
   "outputs": [
    {
     "data": {
      "text/plain": [
       "<matplotlib.legend.Legend at 0x1cb0a4b72b0>"
      ]
     },
     "execution_count": 4,
     "metadata": {},
     "output_type": "execute_result"
    },
    {
     "data": {
      "image/png": "[encoded data removed]",
      "text/plain": [
       "<Figure size 720x360 with 1 Axes>"
      ]
     },
     "metadata": {
      "needs_background": "light"
     },
     "output_type": "display_data"
    }
   ],
   "source": [
    "fig, ax = plt.subplots(figsize=(10, 5))\n",
    "\n",
    "pd.crosstab(census_data['target'], \n",
    "            census_data['sex']).plot(kind='bar', \n",
    "            title='Relation between gender and annual salary', ax=ax)\n",
    "ax.set_xticklabels(['<=50K', '>50K'], rotation=0)\n",
    "ax.legend(['Male', 'Female'])"
   ]
  },
  {
   "cell_type": "code",
   "execution_count": 5,
   "metadata": {},
   "outputs": [
    {
     "name": "stderr",
     "output_type": "stream",
     "text": [
      "C:\\ProgramData\\Anaconda3\\lib\\site-packages\\scipy\\stats\\stats.py:1713: FutureWarning: Using a non-tuple sequence for multidimensional indexing is deprecated; use `arr[tuple(seq)]` instead of `arr[seq]`. In the future this will be interpreted as an array index, `arr[np.array(seq)]`, which will result either in an error or a different result.\n",
      "  return np.add.reduce(sorted[indexer] * weights, axis=axis) / sumval\n"
     ]
    },
    {
     "data": {
      "image/png": "[encoded data removed]",
      "text/plain": [
       "<Figure size 720x360 with 1 Axes>"
      ]
     },
     "metadata": {
      "needs_background": "light"
     },
     "output_type": "display_data"
    }
   ],
   "source": [
    "fig, ax = plt.subplots(figsize=(10,5))\n",
    "\n",
    "sns.barplot(census_data['hours-per-week'], census_data['education'], ax=ax) \\\n",
    ".set_title('Relation between education level and hours of work');"
   ]
  },
  {
   "cell_type": "markdown",
   "metadata": {},
   "source": [
    "## Data Proprocessing\n",
    "\n",
    "Features¶ age; workclass; fnlwgt; education; education-num; marital-status; occupation; relationship; race; sex: 1 if female else 0; capital-gain; capital-loss; hours-per-week; native-country; target: 1 if >50K else 0;"
   ]
  },
  {
   "cell_type": "code",
   "execution_count": 6,
   "metadata": {},
   "outputs": [],
   "source": [
    "import pandas as pd\n",
    "import numpy as np\n",
    "import re"
   ]
  },
  {
   "cell_type": "code",
   "execution_count": 7,
   "metadata": {},
   "outputs": [],
   "source": [
    "# Get data directly from UCI ML using `read_table`\n",
    "raw_data = pd.read_table('http://archive.ics.uci.edu/ml/machine-learning-databases/adult/adult.data', delim_whitespace=True, error_bad_lines=False)"
   ]
  },
  {
   "cell_type": "code",
   "execution_count": 8,
   "metadata": {},
   "outputs": [],
   "source": [
    "# Security copy\n",
    "df = raw_data.copy()"
   ]
  },
  {
   "cell_type": "code",
   "execution_count": 9,
   "metadata": {},
   "outputs": [
    {
     "data": {
      "text/html": [
       "<div>\n",
       "<style scoped>\n",
       "    .dataframe tbody tr th:only-of-type {\n",
       "        vertical-align: middle;\n",
       "    }\n",
       "\n",
       "    .dataframe tbody tr th {\n",
       "        vertical-align: top;\n",
       "    }\n",
       "\n",
       "    .dataframe thead th {\n",
       "        text-align: right;\n",
       "    }\n",
       "</style>\n",
       "<table border=\"1\" class=\"dataframe\">\n",
       "  <thead>\n",
       "    <tr style=\"text-align: right;\">\n",
       "      <th></th>\n",
       "      <th>39,</th>\n",
       "      <th>State-gov,</th>\n",
       "      <th>77516,</th>\n",
       "      <th>Bachelors,</th>\n",
       "      <th>13,</th>\n",
       "      <th>Never-married,</th>\n",
       "      <th>Adm-clerical,</th>\n",
       "      <th>Not-in-family,</th>\n",
       "      <th>White,</th>\n",
       "      <th>Male,</th>\n",
       "      <th>2174,</th>\n",
       "      <th>0,</th>\n",
       "      <th>40,</th>\n",
       "      <th>United-States,</th>\n",
       "      <th>&lt;=50K</th>\n",
       "    </tr>\n",
       "  </thead>\n",
       "  <tbody>\n",
       "    <tr>\n",
       "      <th>0</th>\n",
       "      <td>50,</td>\n",
       "      <td>Self-emp-not-inc,</td>\n",
       "      <td>83311,</td>\n",
       "      <td>Bachelors,</td>\n",
       "      <td>13,</td>\n",
       "      <td>Married-civ-spouse,</td>\n",
       "      <td>Exec-managerial,</td>\n",
       "      <td>Husband,</td>\n",
       "      <td>White,</td>\n",
       "      <td>Male,</td>\n",
       "      <td>0,</td>\n",
       "      <td>0,</td>\n",
       "      <td>13,</td>\n",
       "      <td>United-States,</td>\n",
       "      <td>&lt;=50K</td>\n",
       "    </tr>\n",
       "    <tr>\n",
       "      <th>1</th>\n",
       "      <td>38,</td>\n",
       "      <td>Private,</td>\n",
       "      <td>215646,</td>\n",
       "      <td>HS-grad,</td>\n",
       "      <td>9,</td>\n",
       "      <td>Divorced,</td>\n",
       "      <td>Handlers-cleaners,</td>\n",
       "      <td>Not-in-family,</td>\n",
       "      <td>White,</td>\n",
       "      <td>Male,</td>\n",
       "      <td>0,</td>\n",
       "      <td>0,</td>\n",
       "      <td>40,</td>\n",
       "      <td>United-States,</td>\n",
       "      <td>&lt;=50K</td>\n",
       "    </tr>\n",
       "    <tr>\n",
       "      <th>2</th>\n",
       "      <td>53,</td>\n",
       "      <td>Private,</td>\n",
       "      <td>234721,</td>\n",
       "      <td>11th,</td>\n",
       "      <td>7,</td>\n",
       "      <td>Married-civ-spouse,</td>\n",
       "      <td>Handlers-cleaners,</td>\n",
       "      <td>Husband,</td>\n",
       "      <td>Black,</td>\n",
       "      <td>Male,</td>\n",
       "      <td>0,</td>\n",
       "      <td>0,</td>\n",
       "      <td>40,</td>\n",
       "      <td>United-States,</td>\n",
       "      <td>&lt;=50K</td>\n",
       "    </tr>\n",
       "    <tr>\n",
       "      <th>3</th>\n",
       "      <td>28,</td>\n",
       "      <td>Private,</td>\n",
       "      <td>338409,</td>\n",
       "      <td>Bachelors,</td>\n",
       "      <td>13,</td>\n",
       "      <td>Married-civ-spouse,</td>\n",
       "      <td>Prof-specialty,</td>\n",
       "      <td>Wife,</td>\n",
       "      <td>Black,</td>\n",
       "      <td>Female,</td>\n",
       "      <td>0,</td>\n",
       "      <td>0,</td>\n",
       "      <td>40,</td>\n",
       "      <td>Cuba,</td>\n",
       "      <td>&lt;=50K</td>\n",
       "    </tr>\n",
       "    <tr>\n",
       "      <th>4</th>\n",
       "      <td>37,</td>\n",
       "      <td>Private,</td>\n",
       "      <td>284582,</td>\n",
       "      <td>Masters,</td>\n",
       "      <td>14,</td>\n",
       "      <td>Married-civ-spouse,</td>\n",
       "      <td>Exec-managerial,</td>\n",
       "      <td>Wife,</td>\n",
       "      <td>White,</td>\n",
       "      <td>Female,</td>\n",
       "      <td>0,</td>\n",
       "      <td>0,</td>\n",
       "      <td>40,</td>\n",
       "      <td>United-States,</td>\n",
       "      <td>&lt;=50K</td>\n",
       "    </tr>\n",
       "  </tbody>\n",
       "</table>\n",
       "</div>"
      ],
      "text/plain": [
       "   39,         State-gov,   77516,  Bachelors,  13,       Never-married,  \\\n",
       "0  50,  Self-emp-not-inc,   83311,  Bachelors,  13,  Married-civ-spouse,   \n",
       "1  38,           Private,  215646,    HS-grad,   9,            Divorced,   \n",
       "2  53,           Private,  234721,       11th,   7,  Married-civ-spouse,   \n",
       "3  28,           Private,  338409,  Bachelors,  13,  Married-civ-spouse,   \n",
       "4  37,           Private,  284582,    Masters,  14,  Married-civ-spouse,   \n",
       "\n",
       "        Adm-clerical,  Not-in-family,  White,    Male, 2174,  0,  40,  \\\n",
       "0    Exec-managerial,        Husband,  White,    Male,    0,  0,  13,   \n",
       "1  Handlers-cleaners,  Not-in-family,  White,    Male,    0,  0,  40,   \n",
       "2  Handlers-cleaners,        Husband,  Black,    Male,    0,  0,  40,   \n",
       "3     Prof-specialty,           Wife,  Black,  Female,    0,  0,  40,   \n",
       "4    Exec-managerial,           Wife,  White,  Female,    0,  0,  40,   \n",
       "\n",
       "   United-States,  <=50K  \n",
       "0  United-States,  <=50K  \n",
       "1  United-States,  <=50K  \n",
       "2  United-States,  <=50K  \n",
       "3           Cuba,  <=50K  \n",
       "4  United-States,  <=50K  "
      ]
     },
     "execution_count": 9,
     "metadata": {},
     "output_type": "execute_result"
    }
   ],
   "source": [
    "df.head()"
   ]
  },
  {
   "cell_type": "code",
   "execution_count": 10,
   "metadata": {},
   "outputs": [
    {
     "data": {
      "text/html": [
       "<div>\n",
       "<style scoped>\n",
       "    .dataframe tbody tr th:only-of-type {\n",
       "        vertical-align: middle;\n",
       "    }\n",
       "\n",
       "    .dataframe tbody tr th {\n",
       "        vertical-align: top;\n",
       "    }\n",
       "\n",
       "    .dataframe thead th {\n",
       "        text-align: right;\n",
       "    }\n",
       "</style>\n",
       "<table border=\"1\" class=\"dataframe\">\n",
       "  <thead>\n",
       "    <tr style=\"text-align: right;\">\n",
       "      <th></th>\n",
       "      <th>age</th>\n",
       "      <th>workclass</th>\n",
       "      <th>fnlwgt</th>\n",
       "      <th>education</th>\n",
       "      <th>education-num</th>\n",
       "      <th>marital-status</th>\n",
       "      <th>occupation</th>\n",
       "      <th>relationship</th>\n",
       "      <th>race</th>\n",
       "      <th>sex</th>\n",
       "      <th>capital-gain</th>\n",
       "      <th>capital-loss</th>\n",
       "      <th>hours-per-week</th>\n",
       "      <th>native-country</th>\n",
       "      <th>target</th>\n",
       "    </tr>\n",
       "  </thead>\n",
       "  <tbody>\n",
       "    <tr>\n",
       "      <th>0</th>\n",
       "      <td>39,</td>\n",
       "      <td>State-gov,</td>\n",
       "      <td>77516,</td>\n",
       "      <td>Bachelors,</td>\n",
       "      <td>13,</td>\n",
       "      <td>Never-married,</td>\n",
       "      <td>Adm-clerical,</td>\n",
       "      <td>Not-in-family,</td>\n",
       "      <td>White,</td>\n",
       "      <td>Male,</td>\n",
       "      <td>2174,</td>\n",
       "      <td>0,</td>\n",
       "      <td>40,</td>\n",
       "      <td>United-States,</td>\n",
       "      <td>&lt;=50K</td>\n",
       "    </tr>\n",
       "    <tr>\n",
       "      <th>1</th>\n",
       "      <td>50,</td>\n",
       "      <td>Self-emp-not-inc,</td>\n",
       "      <td>83311,</td>\n",
       "      <td>Bachelors,</td>\n",
       "      <td>13,</td>\n",
       "      <td>Married-civ-spouse,</td>\n",
       "      <td>Exec-managerial,</td>\n",
       "      <td>Husband,</td>\n",
       "      <td>White,</td>\n",
       "      <td>Male,</td>\n",
       "      <td>0,</td>\n",
       "      <td>0,</td>\n",
       "      <td>13,</td>\n",
       "      <td>United-States,</td>\n",
       "      <td>&lt;=50K</td>\n",
       "    </tr>\n",
       "    <tr>\n",
       "      <th>2</th>\n",
       "      <td>38,</td>\n",
       "      <td>Private,</td>\n",
       "      <td>215646,</td>\n",
       "      <td>HS-grad,</td>\n",
       "      <td>9,</td>\n",
       "      <td>Divorced,</td>\n",
       "      <td>Handlers-cleaners,</td>\n",
       "      <td>Not-in-family,</td>\n",
       "      <td>White,</td>\n",
       "      <td>Male,</td>\n",
       "      <td>0,</td>\n",
       "      <td>0,</td>\n",
       "      <td>40,</td>\n",
       "      <td>United-States,</td>\n",
       "      <td>&lt;=50K</td>\n",
       "    </tr>\n",
       "    <tr>\n",
       "      <th>3</th>\n",
       "      <td>53,</td>\n",
       "      <td>Private,</td>\n",
       "      <td>234721,</td>\n",
       "      <td>11th,</td>\n",
       "      <td>7,</td>\n",
       "      <td>Married-civ-spouse,</td>\n",
       "      <td>Handlers-cleaners,</td>\n",
       "      <td>Husband,</td>\n",
       "      <td>Black,</td>\n",
       "      <td>Male,</td>\n",
       "      <td>0,</td>\n",
       "      <td>0,</td>\n",
       "      <td>40,</td>\n",
       "      <td>United-States,</td>\n",
       "      <td>&lt;=50K</td>\n",
       "    </tr>\n",
       "    <tr>\n",
       "      <th>4</th>\n",
       "      <td>28,</td>\n",
       "      <td>Private,</td>\n",
       "      <td>338409,</td>\n",
       "      <td>Bachelors,</td>\n",
       "      <td>13,</td>\n",
       "      <td>Married-civ-spouse,</td>\n",
       "      <td>Prof-specialty,</td>\n",
       "      <td>Wife,</td>\n",
       "      <td>Black,</td>\n",
       "      <td>Female,</td>\n",
       "      <td>0,</td>\n",
       "      <td>0,</td>\n",
       "      <td>40,</td>\n",
       "      <td>Cuba,</td>\n",
       "      <td>&lt;=50K</td>\n",
       "    </tr>\n",
       "  </tbody>\n",
       "</table>\n",
       "</div>"
      ],
      "text/plain": [
       "   age          workclass   fnlwgt   education education-num  \\\n",
       "0  39,         State-gov,   77516,  Bachelors,           13,   \n",
       "1  50,  Self-emp-not-inc,   83311,  Bachelors,           13,   \n",
       "2  38,           Private,  215646,    HS-grad,            9,   \n",
       "3  53,           Private,  234721,       11th,            7,   \n",
       "4  28,           Private,  338409,  Bachelors,           13,   \n",
       "\n",
       "        marital-status          occupation    relationship    race      sex  \\\n",
       "0       Never-married,       Adm-clerical,  Not-in-family,  White,    Male,   \n",
       "1  Married-civ-spouse,    Exec-managerial,        Husband,  White,    Male,   \n",
       "2            Divorced,  Handlers-cleaners,  Not-in-family,  White,    Male,   \n",
       "3  Married-civ-spouse,  Handlers-cleaners,        Husband,  Black,    Male,   \n",
       "4  Married-civ-spouse,     Prof-specialty,           Wife,  Black,  Female,   \n",
       "\n",
       "  capital-gain capital-loss hours-per-week  native-country target  \n",
       "0        2174,           0,            40,  United-States,  <=50K  \n",
       "1           0,           0,            13,  United-States,  <=50K  \n",
       "2           0,           0,            40,  United-States,  <=50K  \n",
       "3           0,           0,            40,  United-States,  <=50K  \n",
       "4           0,           0,            40,           Cuba,  <=50K  "
      ]
     },
     "execution_count": 10,
     "metadata": {},
     "output_type": "execute_result"
    }
   ],
   "source": [
    "#There are no column names\n",
    "df = raw_data.T.reset_index().T.reset_index(drop=True)\n",
    "\n",
    "#Let's put a name to it now\n",
    "column_names = ['age', 'workclass', 'fnlwgt', 'education', 'education-num', 'marital-status',\n",
    "               'occupation', 'relationship', 'race', 'sex', 'capital-gain', 'capital-loss', \n",
    "                'hours-per-week', 'native-country', 'target']\n",
    "\n",
    "df.columns = column_names\n",
    "df.head()"
   ]
  },
  {
   "cell_type": "markdown",
   "metadata": {},
   "source": [
    "## Data Wrangling\n",
    "\n",
    "Let's verify how consistent are the column data and modify if necessary"
   ]
  },
  {
   "cell_type": "code",
   "execution_count": 11,
   "metadata": {},
   "outputs": [],
   "source": [
    "def verify_data_spread():\n",
    "    for column in df.columns:\n",
    "        print(column, ':\\n\\n')\n",
    "        print(df[column].value_counts())\n",
    "        \n",
    "#verify_data_spread()"
   ]
  },
  {
   "cell_type": "code",
   "execution_count": 12,
   "metadata": {},
   "outputs": [],
   "source": [
    "# There are just things that I want to modify:\n",
    "# -> Some columns have an '?' \n",
    "#for the missing parameters, let's modify that to 'missing'\n",
    "\n",
    "def modify_symbol(symbol='?'):\n",
    "    occurrences = []\n",
    "    for column in df.columns:\n",
    "        df[column] = df[column].apply(lambda x: re.sub('[,.;]', '', x))\n",
    "        df[column] = df[column].apply(lambda x: x.replace('-', ' '))\n",
    "        for index, value in df[column].items():\n",
    "            if symbol in value and column not in occurrences:\n",
    "                occurrences.append(column)\n",
    "                \n",
    "    for column in occurrences:\n",
    "        df[column] = df[column].apply(lambda x: x if '?' not in x else 'missing')\n",
    "        \n",
    "modify_symbol()"
   ]
  },
  {
   "cell_type": "code",
   "execution_count": 13,
   "metadata": {},
   "outputs": [],
   "source": [
    "for column in df.columns:\n",
    "    #Removing some commas from data\n",
    "    numerical = ['age', 'fnlwgt', 'education-num', 'capital-loss',\n",
    "                 'capital-gain', 'hours-per-week']\n",
    "    \n",
    "    if column in numerical:\n",
    "        df[column] = df[column].apply(lambda x: x.split(',')[0] if ','\n",
    "                                     in x else x)\n",
    "        df[column] = df[column].astype('int64')"
   ]
  },
  {
   "cell_type": "markdown",
   "metadata": {},
   "source": [
    "## More Modifications\n",
    "Some columns can be already modified to boolean ones, like sex and target; There are a bunch of zeros inside some columns, but they are necessary;"
   ]
  },
  {
   "cell_type": "code",
   "execution_count": 14,
   "metadata": {},
   "outputs": [
    {
     "data": {
      "text/html": [
       "<div>\n",
       "<style scoped>\n",
       "    .dataframe tbody tr th:only-of-type {\n",
       "        vertical-align: middle;\n",
       "    }\n",
       "\n",
       "    .dataframe tbody tr th {\n",
       "        vertical-align: top;\n",
       "    }\n",
       "\n",
       "    .dataframe thead th {\n",
       "        text-align: right;\n",
       "    }\n",
       "</style>\n",
       "<table border=\"1\" class=\"dataframe\">\n",
       "  <thead>\n",
       "    <tr style=\"text-align: right;\">\n",
       "      <th></th>\n",
       "      <th>age</th>\n",
       "      <th>workclass</th>\n",
       "      <th>fnlwgt</th>\n",
       "      <th>education</th>\n",
       "      <th>education-num</th>\n",
       "      <th>marital-status</th>\n",
       "      <th>occupation</th>\n",
       "      <th>relationship</th>\n",
       "      <th>race</th>\n",
       "      <th>sex</th>\n",
       "      <th>capital-gain</th>\n",
       "      <th>capital-loss</th>\n",
       "      <th>hours-per-week</th>\n",
       "      <th>native-country</th>\n",
       "      <th>target</th>\n",
       "    </tr>\n",
       "  </thead>\n",
       "  <tbody>\n",
       "    <tr>\n",
       "      <th>32556</th>\n",
       "      <td>27</td>\n",
       "      <td>Private</td>\n",
       "      <td>257302</td>\n",
       "      <td>Assoc acdm</td>\n",
       "      <td>12</td>\n",
       "      <td>Married civ spouse</td>\n",
       "      <td>Tech support</td>\n",
       "      <td>Wife</td>\n",
       "      <td>White</td>\n",
       "      <td>Female</td>\n",
       "      <td>0</td>\n",
       "      <td>0</td>\n",
       "      <td>38</td>\n",
       "      <td>United States</td>\n",
       "      <td>&lt;=50K</td>\n",
       "    </tr>\n",
       "    <tr>\n",
       "      <th>32557</th>\n",
       "      <td>40</td>\n",
       "      <td>Private</td>\n",
       "      <td>154374</td>\n",
       "      <td>HS grad</td>\n",
       "      <td>9</td>\n",
       "      <td>Married civ spouse</td>\n",
       "      <td>Machine op inspct</td>\n",
       "      <td>Husband</td>\n",
       "      <td>White</td>\n",
       "      <td>Male</td>\n",
       "      <td>0</td>\n",
       "      <td>0</td>\n",
       "      <td>40</td>\n",
       "      <td>United States</td>\n",
       "      <td>&gt;50K</td>\n",
       "    </tr>\n",
       "    <tr>\n",
       "      <th>32558</th>\n",
       "      <td>58</td>\n",
       "      <td>Private</td>\n",
       "      <td>151910</td>\n",
       "      <td>HS grad</td>\n",
       "      <td>9</td>\n",
       "      <td>Widowed</td>\n",
       "      <td>Adm clerical</td>\n",
       "      <td>Unmarried</td>\n",
       "      <td>White</td>\n",
       "      <td>Female</td>\n",
       "      <td>0</td>\n",
       "      <td>0</td>\n",
       "      <td>40</td>\n",
       "      <td>United States</td>\n",
       "      <td>&lt;=50K</td>\n",
       "    </tr>\n",
       "    <tr>\n",
       "      <th>32559</th>\n",
       "      <td>22</td>\n",
       "      <td>Private</td>\n",
       "      <td>201490</td>\n",
       "      <td>HS grad</td>\n",
       "      <td>9</td>\n",
       "      <td>Never married</td>\n",
       "      <td>Adm clerical</td>\n",
       "      <td>Own child</td>\n",
       "      <td>White</td>\n",
       "      <td>Male</td>\n",
       "      <td>0</td>\n",
       "      <td>0</td>\n",
       "      <td>20</td>\n",
       "      <td>United States</td>\n",
       "      <td>&lt;=50K</td>\n",
       "    </tr>\n",
       "    <tr>\n",
       "      <th>32560</th>\n",
       "      <td>52</td>\n",
       "      <td>Self emp inc</td>\n",
       "      <td>287927</td>\n",
       "      <td>HS grad</td>\n",
       "      <td>9</td>\n",
       "      <td>Married civ spouse</td>\n",
       "      <td>Exec managerial</td>\n",
       "      <td>Wife</td>\n",
       "      <td>White</td>\n",
       "      <td>Female</td>\n",
       "      <td>15024</td>\n",
       "      <td>0</td>\n",
       "      <td>40</td>\n",
       "      <td>United States</td>\n",
       "      <td>&gt;50K</td>\n",
       "    </tr>\n",
       "  </tbody>\n",
       "</table>\n",
       "</div>"
      ],
      "text/plain": [
       "       age     workclass  fnlwgt   education  education-num  \\\n",
       "32556   27       Private  257302  Assoc acdm             12   \n",
       "32557   40       Private  154374     HS grad              9   \n",
       "32558   58       Private  151910     HS grad              9   \n",
       "32559   22       Private  201490     HS grad              9   \n",
       "32560   52  Self emp inc  287927     HS grad              9   \n",
       "\n",
       "           marital-status         occupation relationship   race     sex  \\\n",
       "32556  Married civ spouse       Tech support         Wife  White  Female   \n",
       "32557  Married civ spouse  Machine op inspct      Husband  White    Male   \n",
       "32558             Widowed       Adm clerical    Unmarried  White  Female   \n",
       "32559       Never married       Adm clerical    Own child  White    Male   \n",
       "32560  Married civ spouse    Exec managerial         Wife  White  Female   \n",
       "\n",
       "       capital-gain  capital-loss  hours-per-week native-country target  \n",
       "32556             0             0              38  United States  <=50K  \n",
       "32557             0             0              40  United States   >50K  \n",
       "32558             0             0              40  United States  <=50K  \n",
       "32559             0             0              20  United States  <=50K  \n",
       "32560         15024             0              40  United States   >50K  "
      ]
     },
     "execution_count": 14,
     "metadata": {},
     "output_type": "execute_result"
    }
   ],
   "source": [
    "df.tail()"
   ]
  },
  {
   "cell_type": "code",
   "execution_count": 15,
   "metadata": {},
   "outputs": [
    {
     "data": {
      "text/plain": [
       "(Male      21790\n",
       " Female    10771\n",
       " Name: sex, dtype: int64, <=50K    24720\n",
       " >50K      7841\n",
       " Name: target, dtype: int64)"
      ]
     },
     "execution_count": 15,
     "metadata": {},
     "output_type": "execute_result"
    }
   ],
   "source": [
    "df['sex'].value_counts(), df['target'].value_counts()"
   ]
  },
  {
   "cell_type": "code",
   "execution_count": 16,
   "metadata": {},
   "outputs": [
    {
     "data": {
      "text/html": [
       "<div>\n",
       "<style scoped>\n",
       "    .dataframe tbody tr th:only-of-type {\n",
       "        vertical-align: middle;\n",
       "    }\n",
       "\n",
       "    .dataframe tbody tr th {\n",
       "        vertical-align: top;\n",
       "    }\n",
       "\n",
       "    .dataframe thead th {\n",
       "        text-align: right;\n",
       "    }\n",
       "</style>\n",
       "<table border=\"1\" class=\"dataframe\">\n",
       "  <thead>\n",
       "    <tr style=\"text-align: right;\">\n",
       "      <th></th>\n",
       "      <th>age</th>\n",
       "      <th>workclass</th>\n",
       "      <th>fnlwgt</th>\n",
       "      <th>education</th>\n",
       "      <th>education-num</th>\n",
       "      <th>marital-status</th>\n",
       "      <th>occupation</th>\n",
       "      <th>relationship</th>\n",
       "      <th>race</th>\n",
       "      <th>sex</th>\n",
       "      <th>capital-gain</th>\n",
       "      <th>capital-loss</th>\n",
       "      <th>hours-per-week</th>\n",
       "      <th>native-country</th>\n",
       "      <th>target</th>\n",
       "    </tr>\n",
       "  </thead>\n",
       "  <tbody>\n",
       "    <tr>\n",
       "      <th>0</th>\n",
       "      <td>39</td>\n",
       "      <td>State gov</td>\n",
       "      <td>77516</td>\n",
       "      <td>Bachelors</td>\n",
       "      <td>13</td>\n",
       "      <td>Never married</td>\n",
       "      <td>Adm clerical</td>\n",
       "      <td>Not in family</td>\n",
       "      <td>White</td>\n",
       "      <td>0</td>\n",
       "      <td>2174</td>\n",
       "      <td>0</td>\n",
       "      <td>40</td>\n",
       "      <td>United States</td>\n",
       "      <td>0</td>\n",
       "    </tr>\n",
       "    <tr>\n",
       "      <th>1</th>\n",
       "      <td>50</td>\n",
       "      <td>Self emp not inc</td>\n",
       "      <td>83311</td>\n",
       "      <td>Bachelors</td>\n",
       "      <td>13</td>\n",
       "      <td>Married civ spouse</td>\n",
       "      <td>Exec managerial</td>\n",
       "      <td>Husband</td>\n",
       "      <td>White</td>\n",
       "      <td>0</td>\n",
       "      <td>0</td>\n",
       "      <td>0</td>\n",
       "      <td>13</td>\n",
       "      <td>United States</td>\n",
       "      <td>0</td>\n",
       "    </tr>\n",
       "    <tr>\n",
       "      <th>2</th>\n",
       "      <td>38</td>\n",
       "      <td>Private</td>\n",
       "      <td>215646</td>\n",
       "      <td>HS grad</td>\n",
       "      <td>9</td>\n",
       "      <td>Divorced</td>\n",
       "      <td>Handlers cleaners</td>\n",
       "      <td>Not in family</td>\n",
       "      <td>White</td>\n",
       "      <td>0</td>\n",
       "      <td>0</td>\n",
       "      <td>0</td>\n",
       "      <td>40</td>\n",
       "      <td>United States</td>\n",
       "      <td>0</td>\n",
       "    </tr>\n",
       "    <tr>\n",
       "      <th>3</th>\n",
       "      <td>53</td>\n",
       "      <td>Private</td>\n",
       "      <td>234721</td>\n",
       "      <td>11th</td>\n",
       "      <td>7</td>\n",
       "      <td>Married civ spouse</td>\n",
       "      <td>Handlers cleaners</td>\n",
       "      <td>Husband</td>\n",
       "      <td>Black</td>\n",
       "      <td>0</td>\n",
       "      <td>0</td>\n",
       "      <td>0</td>\n",
       "      <td>40</td>\n",
       "      <td>United States</td>\n",
       "      <td>0</td>\n",
       "    </tr>\n",
       "    <tr>\n",
       "      <th>4</th>\n",
       "      <td>28</td>\n",
       "      <td>Private</td>\n",
       "      <td>338409</td>\n",
       "      <td>Bachelors</td>\n",
       "      <td>13</td>\n",
       "      <td>Married civ spouse</td>\n",
       "      <td>Prof specialty</td>\n",
       "      <td>Wife</td>\n",
       "      <td>Black</td>\n",
       "      <td>1</td>\n",
       "      <td>0</td>\n",
       "      <td>0</td>\n",
       "      <td>40</td>\n",
       "      <td>Cuba</td>\n",
       "      <td>0</td>\n",
       "    </tr>\n",
       "  </tbody>\n",
       "</table>\n",
       "</div>"
      ],
      "text/plain": [
       "   age         workclass  fnlwgt  education  education-num  \\\n",
       "0   39         State gov   77516  Bachelors             13   \n",
       "1   50  Self emp not inc   83311  Bachelors             13   \n",
       "2   38           Private  215646    HS grad              9   \n",
       "3   53           Private  234721       11th              7   \n",
       "4   28           Private  338409  Bachelors             13   \n",
       "\n",
       "       marital-status         occupation   relationship   race  sex  \\\n",
       "0       Never married       Adm clerical  Not in family  White    0   \n",
       "1  Married civ spouse    Exec managerial        Husband  White    0   \n",
       "2            Divorced  Handlers cleaners  Not in family  White    0   \n",
       "3  Married civ spouse  Handlers cleaners        Husband  Black    0   \n",
       "4  Married civ spouse     Prof specialty           Wife  Black    1   \n",
       "\n",
       "   capital-gain  capital-loss  hours-per-week native-country  target  \n",
       "0          2174             0              40  United States       0  \n",
       "1             0             0              13  United States       0  \n",
       "2             0             0              40  United States       0  \n",
       "3             0             0              40  United States       0  \n",
       "4             0             0              40           Cuba       0  "
      ]
     },
     "execution_count": 16,
     "metadata": {},
     "output_type": "execute_result"
    }
   ],
   "source": [
    "# Booleanizing (huh) categories\n",
    "df['sex'] = df.sex.apply(lambda x: 1 if 'Female' in x else 0)\n",
    "df['target'] = df.target.apply(lambda x: 1 if '>50K' in x else 0)\n",
    "df.head()"
   ]
  },
  {
   "cell_type": "code",
   "execution_count": 17,
   "metadata": {},
   "outputs": [
    {
     "data": {
      "text/plain": [
       "(0    21790\n",
       " 1    10771\n",
       " Name: sex, dtype: int64, 0    24720\n",
       " 1     7841\n",
       " Name: target, dtype: int64)"
      ]
     },
     "execution_count": 17,
     "metadata": {},
     "output_type": "execute_result"
    }
   ],
   "source": [
    "df['sex'].value_counts(), df['target'].value_counts()"
   ]
  },
  {
   "cell_type": "markdown",
   "metadata": {},
   "source": [
    "## Estimators\n",
    "\n",
    "Features¶ age; workclass; fnlwgt; education; education-num; marital-status; occupation; relationship; race; sex: 1 if female else 0; capital-gain; capital-loss; hours-per-week; native-country; target: 1 if >50K else 0;"
   ]
  },
  {
   "cell_type": "markdown",
   "metadata": {},
   "source": [
    "### Let's create our X and y variables"
   ]
  },
  {
   "cell_type": "code",
   "execution_count": 18,
   "metadata": {},
   "outputs": [],
   "source": [
    "from sklearn.model_selection import train_test_split"
   ]
  },
  {
   "cell_type": "code",
   "execution_count": null,
   "metadata": {},
   "outputs": [],
   "source": [
    "# Taking a sample from the entire population\n",
    "sample = df.iloc[:10000]\n",
    "X = sample.drop('target', axis=1)\n",
    "y = sample['target']\n",
    "\n",
    "X_train, X_test, y_train, y_test = train_test_split(X, y, test_size=0.2)"
   ]
  },
  {
   "cell_type": "markdown",
   "metadata": {},
   "source": [
    "## Data Imputation"
   ]
  },
  {
   "cell_type": "code",
   "execution_count": null,
   "metadata": {},
   "outputs": [],
   "source": [
    "from sklearn.impute import SimpleImputer\n",
    "from sklearn.compose import ColumnTransformer\n",
    "from sklearn.pipeline import Pipeline\n",
    "from sklearn.preprocessing import OneHotEncoder"
   ]
  },
  {
   "cell_type": "markdown",
   "metadata": {},
   "source": [
    "Let's import our model"
   ]
  },
  {
   "cell_type": "code",
   "execution_count": null,
   "metadata": {},
   "outputs": [],
   "source": [
    "from sklearn.ensemble import RandomForestClassifier\n",
    "from sklearn.neighbors import KNeighborsClassifier\n",
    "from sklearn.svm import LinearSVC"
   ]
  },
  {
   "cell_type": "markdown",
   "metadata": {},
   "source": [
    "Pipeline to impute missing data and convert categorical columns into numbers"
   ]
  },
  {
   "cell_type": "code",
   "execution_count": null,
   "metadata": {},
   "outputs": [],
   "source": [
    "categorical_features = ['workclass', 'education', 'marital-status', \n",
    "                        'occupation', 'relationship', 'race', 'native-country']\n",
    "categorical_imputer = Pipeline(steps=[\n",
    "    ('imputer', SimpleImputer(strategy='constant', fill_value='missing')),\n",
    "    ('onehot', OneHotEncoder(handle_unknown='ignore'))\n",
    "])\n",
    "\n",
    "numerical_features = ['age', 'fnlwgt', 'education-num', 'sex', 'capital-loss',\n",
    "                     'capital-gain', 'hours-per-week']\n",
    "numerical_imputer = Pipeline(steps=[\n",
    "    ('imputer', SimpleImputer(strategy='constant', fill_value=-1))\n",
    "])\n",
    "\n",
    "preprocessor = ColumnTransformer(transformers=[\n",
    "    ('cat', categorical_imputer, categorical_features),\n",
    "    ('num', numerical_imputer, numerical_features)\n",
    "])"
   ]
  },
  {
   "cell_type": "markdown",
   "metadata": {},
   "source": [
    "### Functions to get the base scores for each model"
   ]
  },
  {
   "cell_type": "markdown",
   "metadata": {},
   "source": [
    "Please notice that my computer doesn't have enough power to fit all the dataset entries, so I've reduced to a sample of 10K only"
   ]
  },
  {
   "cell_type": "code",
   "execution_count": null,
   "metadata": {},
   "outputs": [
    {
     "name": "stderr",
     "output_type": "stream",
     "text": [
      "C:\\ProgramData\\Anaconda3\\lib\\site-packages\\sklearn\\ensemble\\forest.py:246: FutureWarning: The default value of n_estimators will change from 10 in version 0.20 to 100 in 0.22.\n",
      "  \"10 in version 0.20 to 100 in 0.22.\", FutureWarning)\n",
      "C:\\ProgramData\\Anaconda3\\lib\\site-packages\\sklearn\\svm\\base.py:922: ConvergenceWarning: Liblinear failed to converge, increase the number of iterations.\n",
      "  \"the number of iterations.\", ConvergenceWarning)\n"
     ]
    },
    {
     "data": {
      "text/plain": [
       "{'random_forest': '84.39999999999999%',\n",
       " 'k_neighbors': '77.3%',\n",
       " 'linear_svc': '78.4%'}"
      ]
     },
     "execution_count": 23,
     "metadata": {},
     "output_type": "execute_result"
    }
   ],
   "source": [
    "def get_base_prediction(model_dict):\n",
    "    scores = {}\n",
    "    for name, model in model_dict.items():\n",
    "        model = Pipeline(steps=[\n",
    "            ('preprocessor', preprocessor),\n",
    "            ('model', model)\n",
    "        ])\n",
    "        \n",
    "        model.fit(X_train, y_train)\n",
    "        scores[name] = f'{model.score(X_test, y_test) * 100}%'\n",
    "        \n",
    "    return scores\n",
    "\n",
    "get_base_prediction({'random_forest': RandomForestClassifier(),\n",
    "                    'k_neighbors': KNeighborsClassifier(),\n",
    "                    'linear_svc': LinearSVC()})"
   ]
  },
  {
   "cell_type": "markdown",
   "metadata": {},
   "source": [
    "## Hyperparameters tuning"
   ]
  },
  {
   "cell_type": "code",
   "execution_count": null,
   "metadata": {},
   "outputs": [],
   "source": [
    "from sklearn.model_selection import RandomizedSearchCV, GridSearchCV"
   ]
  },
  {
   "cell_type": "markdown",
   "metadata": {},
   "source": [
    "### RandomizedSearch CV"
   ]
  },
  {
   "cell_type": "code",
   "execution_count": null,
   "metadata": {},
   "outputs": [],
   "source": [
    "rf_grid = {\n",
    "    'model__n_estimators': np.arange(250, 350, 5),\n",
    "    'model__max_depth': np.arange(30, 60, 5),\n",
    "    'model__min_split': np.arange(5, 15, 5),\n",
    "    'model__min_samples_leaf': np.arange(0, 10, 1)\n",
    "}\n",
    "\n",
    "model = Pipeline(steps=[\n",
    "    ('preprocessor', preprocessor),\n",
    "    ('model', RandomForestClassifier(n_jobs=-1))\n",
    "])\n",
    "\n",
    "rscv = RandomizedSearchCV(model, param_distributions=rf_grid, n_iter=30)\n",
    "\n",
    "#rscv.fit(X_train, y_train)\n",
    "#print(rscv.best_params_)\n",
    "#print(f'{rscv.score(X_test, y_test) * 100}%')"
   ]
  },
  {
   "cell_type": "code",
   "execution_count": null,
   "metadata": {},
   "outputs": [
    {
     "name": "stdout",
     "output_type": "stream",
     "text": [
      "Tuned modelscore: 86.5%\n"
     ]
    }
   ],
   "source": [
    "rsrf_model = Pipeline(steps=[\n",
    "    ('preprocessor', preprocessor),\n",
    "    ('model', RandomForestClassifier(n_jobs=-1, n_estimators=285, \n",
    "                                     min_samples_split=10,\n",
    "                                    min_samples_leaf= 2, max_depth=45))\n",
    "])\n",
    "\n",
    "rsrf_model.fit(X_train, y_train)\n",
    "print(f'Tuned modelscore: {rsrf_model.score(X_test, y_test) * 100}%')"
   ]
  },
  {
   "cell_type": "markdown",
   "metadata": {},
   "source": [
    "### GridSearch CV"
   ]
  },
  {
   "cell_type": "code",
   "execution_count": null,
   "metadata": {},
   "outputs": [
    {
     "name": "stderr",
     "output_type": "stream",
     "text": [
      "C:\\ProgramData\\Anaconda3\\lib\\site-packages\\sklearn\\model_selection\\_split.py:2053: FutureWarning: You should specify a value for 'cv' instead of relying on the default value. The default value will change from 3 to 5 in version 0.22.\n",
      "  warnings.warn(CV_WARNING, FutureWarning)\n"
     ]
    }
   ],
   "source": [
    "rf_grid = {\n",
    "    'model__n_estimators': [250, 280, 300],\n",
    "    'model__max_depth' : [45, 50, 55], \n",
    "    'model__min_samples_split':[10, 12],\n",
    "    'model__min_samples_leaf': [1, 3, 5]\n",
    "}\n",
    "\n",
    "model = Pipeline(steps= [\n",
    "    ('preprocessor', preprocessor),\n",
    "    ('model', RandomForestClassifier(n_jobs=-1))\n",
    "])\n",
    "\n",
    "gscv = GridSearchCV(model, param_grid=rf_grid, n_jobs=-1)\n",
    "gscv.fit(X_train, y_train)\n",
    "print(gscv.best_params_)\n",
    "print(f'{gscv.score(X_test, y_test) * 100}%')"
   ]
  },
  {
   "cell_type": "markdown",
   "metadata": {},
   "source": [
    "### Model Evaluation"
   ]
  },
  {
   "cell_type": "code",
   "execution_count": null,
   "metadata": {},
   "outputs": [],
   "source": [
    "from sklearn.metrics import classification_report"
   ]
  },
  {
   "cell_type": "code",
   "execution_count": null,
   "metadata": {},
   "outputs": [],
   "source": [
    "y_preds = rsrf_model.predict(X_test)\n",
    "pd.DataFrame(classification_report(y_test, y_preds, output_dict=True))"
   ]
  },
  {
   "cell_type": "code",
   "execution_count": null,
   "metadata": {},
   "outputs": [],
   "source": []
  }
 ],
 "metadata": {
  "kernelspec": {
   "display_name": "Python 3",
   "language": "python",
   "name": "python3"
  },
  "language_info": {
   "codemirror_mode": {
    "name": "ipython",
    "version": 3
   },
   "file_extension": ".py",
   "mimetype": "text/x-python",
   "name": "python",
   "nbconvert_exporter": "python",
   "pygments_lexer": "ipython3",
   "version": "3.7.1"
  }
 },
 "nbformat": 4,
 "nbformat_minor": 2
}
